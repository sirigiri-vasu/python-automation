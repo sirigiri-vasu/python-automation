{
 "cells": [
  {
   "cell_type": "code",
   "execution_count": 1,
   "metadata": {},
   "outputs": [],
   "source": [
    "import fitz"
   ]
  },
  {
   "cell_type": "code",
   "execution_count": 2,
   "metadata": {},
   "outputs": [],
   "source": [
    "json_data = '''\n",
    "{\n",
    "  \"items\": [\n",
    "    {\n",
    "      \"name\": \"Item 1\",\n",
    "      \"price\": 10,\n",
    "      \"quantity\": 5\n",
    "    },\n",
    "    {\n",
    "      \"name\": \"Item 2\",\n",
    "      \"price\": 20,\n",
    "      \"quantity\": 3\n",
    "    },\n",
    "    {\n",
    "      \"name\": \"Item 3\",\n",
    "      \"price\": 15,\n",
    "      \"quantity\": 7\n",
    "    }\n",
    "  ]\n",
    "}\n",
    "'''"
   ]
  },
  {
   "cell_type": "code",
   "execution_count": 5,
   "metadata": {},
   "outputs": [],
   "source": [
    "import json\n",
    "\n",
    "pdf = fitz.open()\n",
    "page = pdf.new_page()\n",
    "\n",
    "y_position = 50\n",
    "\n",
    "page.insert_text((50, y_position), \"Sample Headline\", fontsize=14)\n",
    "y_position += 30\n",
    "\n",
    "data = json.loads(json_data)['items']\n",
    "for item in data:\n",
    "    for k, v in item.items():\n",
    "        page.insert_text((50, y_position), f\"{k}: {v}\")\n",
    "        y_position += 50\n",
    "    \n",
    "pdf.save(\"sample.pdf\")\n",
    "pdf.close()"
   ]
  },
  {
   "cell_type": "code",
   "execution_count": null,
   "metadata": {},
   "outputs": [],
   "source": []
  }
 ],
 "metadata": {
  "kernelspec": {
   "display_name": "Python 3.9.12 ('base')",
   "language": "python",
   "name": "python3"
  },
  "language_info": {
   "codemirror_mode": {
    "name": "ipython",
    "version": 3
   },
   "file_extension": ".py",
   "mimetype": "text/x-python",
   "name": "python",
   "nbconvert_exporter": "python",
   "pygments_lexer": "ipython3",
   "version": "3.9.12"
  },
  "orig_nbformat": 4,
  "vscode": {
   "interpreter": {
    "hash": "6517ab37de6cefd6ebe2c03d3828e949d771591c6f3d553889b06ce0406ca093"
   }
  }
 },
 "nbformat": 4,
 "nbformat_minor": 2
}
